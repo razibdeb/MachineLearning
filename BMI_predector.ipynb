{
  "nbformat": 4,
  "nbformat_minor": 0,
  "metadata": {
    "colab": {
      "name": "BMI predector.ipynb",
      "version": "0.3.2",
      "provenance": [],
      "include_colab_link": true
    },
    "kernelspec": {
      "name": "python3",
      "display_name": "Python 3"
    }
  },
  "cells": [
    {
      "cell_type": "markdown",
      "metadata": {
        "id": "view-in-github",
        "colab_type": "text"
      },
      "source": [
        "<a href=\"https://colab.research.google.com/github/razibdeb/MachineLearning/blob/master/BMI_predector.ipynb\" target=\"_parent\"><img src=\"https://colab.research.google.com/assets/colab-badge.svg\" alt=\"Open In Colab\"/></a>"
      ]
    },
    {
      "cell_type": "code",
      "metadata": {
        "id": "QMlu8EKp3VvL",
        "colab_type": "code",
        "outputId": "38de40d9-fb8f-4697-b66a-b5f498152c70",
        "colab": {
          "base_uri": "https://localhost:8080/",
          "height": 238
        }
      },
      "source": [
        "!wget https://bin.equinox.io/c/4VmDzA7iaHb/ngrok-stable-linux-amd64.zip\n",
        "!unzip ngrok-stable-linux-amd64.zip\n",
        "\n",
        "LOG_DIR = './log'\n",
        "get_ipython().system_raw(\n",
        "    'tensorboard --logdir {} --host 0.0.0.0 --port 6006 &'\n",
        "    .format(LOG_DIR)\n",
        ")\n",
        "get_ipython().system_raw('./ngrok http 6006 &')"
      ],
      "execution_count": 0,
      "outputs": [
        {
          "output_type": "stream",
          "text": [
            "--2019-09-17 17:39:25--  https://bin.equinox.io/c/4VmDzA7iaHb/ngrok-stable-linux-amd64.zip\n",
            "Resolving bin.equinox.io (bin.equinox.io)... 3.224.23.57, 3.227.43.216, 52.86.119.192, ...\n",
            "Connecting to bin.equinox.io (bin.equinox.io)|3.224.23.57|:443... connected.\n",
            "HTTP request sent, awaiting response... 200 OK\n",
            "Length: 13607069 (13M) [application/octet-stream]\n",
            "Saving to: ‘ngrok-stable-linux-amd64.zip’\n",
            "\n",
            "\r          ngrok-sta   0%[                    ]       0  --.-KB/s               \rngrok-stable-linux- 100%[===================>]  12.98M  73.2MB/s    in 0.2s    \n",
            "\n",
            "2019-09-17 17:39:26 (73.2 MB/s) - ‘ngrok-stable-linux-amd64.zip’ saved [13607069/13607069]\n",
            "\n",
            "Archive:  ngrok-stable-linux-amd64.zip\n",
            "  inflating: ngrok                   \n"
          ],
          "name": "stdout"
        }
      ]
    },
    {
      "cell_type": "code",
      "metadata": {
        "id": "ZD8fyHez3nk7",
        "colab_type": "code",
        "outputId": "14951fca-e5a3-4dd2-dceb-f81e69aee168",
        "colab": {
          "base_uri": "https://localhost:8080/",
          "height": 34
        }
      },
      "source": [
        "! curl -s http://localhost:4040/api/tunnels | python3 -c \\\n",
        "    \"import sys, json; print(json.load(sys.stdin)['tunnels'][0]['public_url'])\""
      ],
      "execution_count": 0,
      "outputs": [
        {
          "output_type": "stream",
          "text": [
            "https://eca09e2d.ngrok.io\n"
          ],
          "name": "stdout"
        }
      ]
    },
    {
      "cell_type": "code",
      "metadata": {
        "id": "PEEKMwSkp2p3",
        "colab_type": "code",
        "outputId": "a3d4f623-80fc-4f38-a9a7-2ba26650244f",
        "colab": {
          "base_uri": "https://localhost:8080/",
          "height": 34
        }
      },
      "source": [
        "import keras\n",
        "from keras import backend as K\n",
        "from keras.models import Sequential\n",
        "from keras.layers import Activation\n",
        "from keras.layers.core import Dense\n",
        "from keras.optimizers import Adam\n",
        "from keras.metrics import categorical_crossentropy\n",
        "from keras.utils import to_categorical\n",
        "import math\n",
        "\n",
        "from sklearn import preprocessing as pp\n",
        "\n",
        "\n",
        "from random import seed\n",
        "from random import randint\n",
        "from numpy import array\n",
        "from keras.models import Sequential\n",
        "from keras.layers import Dense\n",
        "from keras.layers import LSTM\n",
        "from math import sqrt\n",
        "from sklearn.metrics import mean_squared_error"
      ],
      "execution_count": 0,
      "outputs": [
        {
          "output_type": "stream",
          "text": [
            "Using TensorFlow backend.\n"
          ],
          "name": "stderr"
        }
      ]
    },
    {
      "cell_type": "code",
      "metadata": {
        "id": "yVlOyKiUbXAM",
        "colab_type": "code",
        "colab": {}
      },
      "source": [
        "import numpy as np\n",
        "\n",
        "LOW_BMI = 10.0\n",
        "HIGH_BMI = 80.0\n",
        "\n",
        "LOW_WEIGHT = 5.0\n",
        "HIGH_WEIGHT = 80.0\n",
        "\n",
        "\n",
        "LOW_HEIGHT = 75.0\n",
        "HIGH_HEIGHT = 190.0\n",
        "\n",
        "def getBMI(height, weight):\n",
        "    return weight / ( (height/100) * (height/100) )\n",
        "\n",
        "\n",
        "class Person :\n",
        "\n",
        "    def __init__(self, name, age, height, weight):\n",
        "        self.name = name\n",
        "        self.age = age\n",
        "        self.weight = weight\n",
        "        self.height = height\n",
        "        self.BMI = getBMI(height, weight)\n",
        "        \n",
        "    def printPerson(self):\n",
        "        print(\"Name: \" + self.name + \" Age: \" + repr(self.age) + \" Height: \" + repr(self.height) + \" Weight: \" + repr(self.weight) + \" BMI:\" + repr(self.BMI) )\n",
        "\n",
        "    \n",
        "              \n",
        "def generatePersonArray(N):\n",
        "    p_array = []\n",
        "    random_age_array = np.random.randint(low = 1, high=120, size = N, dtype = 'int32')\n",
        "    random_weight_array = np.random.randint(low = 1, high=120, size = N, dtype = 'int32')\n",
        "    \n",
        "    #for x in range(0,N)\n",
        "    for age in random_age_array:\n",
        "        \n",
        "        heighest_weight = LOW_WEIGHT\n",
        "        lowest_weight = HIGH_WEIGHT\n",
        "        \n",
        "        lowest_height = LOW_HEIGHT #cm\n",
        "        heighest_height = HIGH_HEIGHT\n",
        "        \n",
        "        if(age < 5):\n",
        "            heighest_weight = 10.0\n",
        "            lowest_weight = 5.0\n",
        "            lowest_height = 80.0\n",
        "            heighest_height = 110.0\n",
        "        elif(age < 10):\n",
        "            heighest_weight = 20.0\n",
        "            lowest_weight = 12.0\n",
        "            lowest_height = 85.0\n",
        "            heighest_height = 115.0\n",
        "        elif(age < 20):\n",
        "            heighest_weight = 40.0\n",
        "            lowest_weight = 20.0\n",
        "            lowest_height = 100.0\n",
        "            heighest_height = 120.0\n",
        "            \n",
        "        elif(age < 30):\n",
        "            heighest_weight = 50.0\n",
        "            lowest_weight = 30.0\n",
        "            lowest_height = 105.0\n",
        "            heighest_height = 130.0\n",
        "        else: #(age < 30)\n",
        "            heighest_weight = 60.0\n",
        "            lowest_weight = 50.0\n",
        "            lowest_height = 115.0\n",
        "            heighest_height = 135.0    \n",
        "        \n",
        "        random_height = np.random.randint(low = lowest_height, high=heighest_height, size = 1, dtype = 'int32')\n",
        "        random_weight = np.random.randint(low = lowest_weight, high=heighest_weight, size = 1, dtype = 'int32')\n",
        "\n",
        "        p1 = Person(name = \"Razib\", age = age, height = random_height[0], weight = random_weight[0])\n",
        "        #p1.printPerson()\n",
        "        p_array.append(p1)\n",
        "    return p_array\n",
        "        \n",
        "        \n",
        "def generateInputArray(p_array_train, t_data, t_label):\n",
        "    \n",
        "    for p in p_array_train:\n",
        "        t_data.append([p.height, p.weight])\n",
        "        #t_data.append(p.height)\n",
        "        #t_data.append(p.weight)\n",
        "  \n",
        "        t_label.append(p.BMI)\n",
        "\n",
        "        #BMI_array.append(p.BMI)\n",
        "    \n",
        "    \n",
        "    \n",
        "def sigmoid(x):\n",
        "    #return 1 /(1+(math.e**-x))\n",
        "    return (x - LOW_BMI) / HIGH_BMI\n",
        "  \n",
        "def reverse_sigmoid(y):\n",
        "    return y* HIGH_BMI + LOW_BMI\n",
        "  #return ln(y/(1-y))\n",
        "  \n",
        "  \n",
        "def map_bmi(x):\n",
        "    return (x - LOW_BMI) / HIGH_BMI\n",
        "  \n",
        "def reverse_bmi(y):\n",
        "    return y* HIGH_BMI + LOW_BMI\n",
        "  \n",
        "def map_weight(x):\n",
        "    return (x - LOW_WEIGHT) / HIGH_WEIGHT\n",
        "  \n",
        "def reverse_weight(y):\n",
        "    return y* HIGH_WEIGHT + LOW_WEIGHT\n",
        "  \n",
        "  \n",
        "def map_height(x):\n",
        "    return (x - LOW_HEIGHT) / HIGH_HEIGHT\n",
        "  \n",
        "def reverse_height(y):\n",
        "    return y* HIGH_HEIGHT + LOW_HEIGHT\n",
        "########################\n",
        "\n",
        "\n",
        "\n"
      ],
      "execution_count": 0,
      "outputs": []
    },
    {
      "cell_type": "code",
      "metadata": {
        "id": "Pi1Evr8Gpsi3",
        "colab_type": "code",
        "colab": {}
      },
      "source": [
        ""
      ],
      "execution_count": 0,
      "outputs": []
    },
    {
      "cell_type": "code",
      "metadata": {
        "id": "mvZbd7ggpWl8",
        "colab_type": "code",
        "outputId": "5a070cf7-c37c-4798-d412-6ca198d7bcc9",
        "colab": {
          "base_uri": "https://localhost:8080/",
          "height": 136
        }
      },
      "source": [
        "N_train = 1000\n",
        "\n",
        "\n",
        "BMI_array = []\n",
        "\n",
        "person_array_train = generatePersonArray(N_train)\n",
        "\n",
        "\n",
        "training_data = []\n",
        "training_label = []\n",
        "\n",
        "generateInputArray(person_array_train, training_data, training_label)\n",
        "\n",
        "\n",
        "print(\"Person Array Size: \" + repr( len (person_array_train) ) )\n",
        "print(\"Training Data Array Size: \" + repr( len (training_data) ) )\n",
        "print(\"Training Label Array Size: \" + repr( len (training_label) ) )\n",
        "\n",
        "\n",
        "print(repr(training_data[0]))\n",
        "print(repr(training_label[0]))\n",
        "print(repr(training_label[0]))\n",
        "\n",
        "print(  training_data[0][1] / ( (training_data[0][0] * training_data[0][0]) / 10000 ) )"
      ],
      "execution_count": 0,
      "outputs": [
        {
          "output_type": "stream",
          "text": [
            "Person Array Size: 1000\n",
            "Training Data Array Size: 1000\n",
            "Training Label Array Size: 1000\n",
            "[123, 57]\n",
            "37.67598651596272\n",
            "37.67598651596272\n",
            "37.67598651596272\n"
          ],
          "name": "stdout"
        }
      ]
    },
    {
      "cell_type": "code",
      "metadata": {
        "id": "CQRh_q0gUSm7",
        "colab_type": "code",
        "outputId": "bcb58c8d-38dd-443a-bc60-057cf3bb5474",
        "colab": {
          "base_uri": "https://localhost:8080/",
          "height": 153
        }
      },
      "source": [
        "data_scaler = pp.MinMaxScaler(feature_range=(0,1))\n",
        "print(data_scaler)\n",
        "data_scaled = data_scaler.fit_transform(training_data)\n",
        "print(data_scaled)"
      ],
      "execution_count": 0,
      "outputs": [
        {
          "output_type": "stream",
          "text": [
            "MinMaxScaler(copy=True, feature_range=(0, 1))\n",
            "[[0.7962963  0.96296296]\n",
            " [0.77777778 0.83333333]\n",
            " [0.64814815 0.94444444]\n",
            " ...\n",
            " [0.74074074 1.        ]\n",
            " [0.64814815 0.96296296]\n",
            " [0.7037037  0.92592593]]\n"
          ],
          "name": "stdout"
        }
      ]
    },
    {
      "cell_type": "code",
      "metadata": {
        "id": "EDVhqIJ4dgpA",
        "colab_type": "code",
        "outputId": "9733865c-aa48-4404-935b-c127d6dee2a4",
        "colab": {
          "base_uri": "https://localhost:8080/",
          "height": 323
        }
      },
      "source": [
        "\n",
        "#\n",
        "model = Sequential([\n",
        "        LSTM(10, input_shape=(2, 1)),\n",
        "        Dense(1)\n",
        "        ])\n",
        "\n",
        "model.summary()\n"
      ],
      "execution_count": 0,
      "outputs": [
        {
          "output_type": "stream",
          "text": [
            "WARNING:tensorflow:From /usr/local/lib/python3.6/dist-packages/keras/backend/tensorflow_backend.py:66: The name tf.get_default_graph is deprecated. Please use tf.compat.v1.get_default_graph instead.\n",
            "\n",
            "WARNING:tensorflow:From /usr/local/lib/python3.6/dist-packages/keras/backend/tensorflow_backend.py:541: The name tf.placeholder is deprecated. Please use tf.compat.v1.placeholder instead.\n",
            "\n",
            "WARNING:tensorflow:From /usr/local/lib/python3.6/dist-packages/keras/backend/tensorflow_backend.py:4432: The name tf.random_uniform is deprecated. Please use tf.random.uniform instead.\n",
            "\n",
            "Model: \"sequential_1\"\n",
            "_________________________________________________________________\n",
            "Layer (type)                 Output Shape              Param #   \n",
            "=================================================================\n",
            "lstm_1 (LSTM)                (None, 10)                480       \n",
            "_________________________________________________________________\n",
            "dense_1 (Dense)              (None, 1)                 11        \n",
            "=================================================================\n",
            "Total params: 491\n",
            "Trainable params: 491\n",
            "Non-trainable params: 0\n",
            "_________________________________________________________________\n"
          ],
          "name": "stdout"
        }
      ]
    },
    {
      "cell_type": "code",
      "metadata": {
        "id": "NGY7aRfcrAE3",
        "colab_type": "code",
        "colab": {}
      },
      "source": [
        "#model.compile(Adam(lr=0.001), loss = 'sparse_categorical_crossentropy', metrics=['accuracy'])\n",
        "#model.compile(Adam(lr=0.001), loss = 'mean_squared_error', metrics=['accuracy'])\n",
        "model.compile(loss='mean_squared_error', optimizer='adam')"
      ],
      "execution_count": 0,
      "outputs": []
    },
    {
      "cell_type": "code",
      "metadata": {
        "id": "3VAMSpU0q9nL",
        "colab_type": "code",
        "outputId": "55780b9a-5666-4550-b469-9dca89ae6ec8",
        "colab": {
          "base_uri": "https://localhost:8080/",
          "height": 204
        }
      },
      "source": [
        "\n",
        "print(\"Original Training Data\")\n",
        "print(training_data[0])\n",
        "\n",
        "training_data = [[map_height(x), map_weight(y)] for x,y in training_data]\n",
        "\n",
        "print(\"After Scalling Training Data\")\n",
        "print(training_data[0])\n",
        "\n",
        "print(\"Reverse:\")\n",
        "#print(reverse_height(training_data[0][0]))\n",
        "#print(reverse_weight(training_data[0][1]))\n",
        "\n",
        "\n",
        "#td = np.array(training_data, dtype='float32')\n",
        "#tl = np.array(training_label, dtype= 'bool')\n",
        "\n",
        "#training_data = [[map_height(x), map_weight(y)] for x,y in training_data]\n",
        "#training_data = array(training_data)\n",
        "#training_data = training_data.reshape(10, 2, 1)\n",
        "\n",
        "\n",
        "td = array(training_data)\n",
        "td = td.reshape(1000, 2, 1)\n",
        "\n",
        "\n",
        "\n",
        "print(\"BMI:\")\n",
        "#print(map_bmi(BMI_array[0]))\n",
        "print(\"reverse BMI\")\n",
        "#print( reverse_bmi(map_bmi(BMI_array[0])))\n",
        "\n",
        "#print(BMI_array)\n",
        "\n",
        "tl_sigmoid = [map_bmi(x) for x in training_label]\n",
        "#print(tl_sigmoid)\n",
        "\n",
        "  \n",
        "#for p in tl_sigmoid:\n",
        "#  tl.append(p)\n",
        "\n",
        "\n",
        "#print(tl_sigmoid[0])\n",
        "\n",
        "#tl_sigmoid = np.array(tl_sigmoid, dtype = 'float64')\n",
        "\n",
        "\n",
        "\n",
        "\n",
        "\n",
        "#print(\"NP Array BMI\")\n",
        "#print(tl[0])\n",
        "print(\"Training array \")\n",
        "print(td[0])\n",
        "\n",
        " \n",
        "\n",
        "\n",
        "#print(\"Testing Array Size: \" + repr( len (person_array_test) ) )\n",
        "#print(\"Testing Data Array first: \" + repr( len (testing_data) ) )\n",
        "print(\"Testing Label Array Size: \" + repr( len (tl_sigmoid) ) )"
      ],
      "execution_count": 0,
      "outputs": [
        {
          "output_type": "stream",
          "text": [
            "Original Training Data\n",
            "[0.25263157894736843, 0.65]\n",
            "After Scalling Training Data\n",
            "[-0.39340720221606645, -0.05437499999999999]\n",
            "Reverse:\n",
            "BMI:\n",
            "reverse BMI\n",
            "Training array \n",
            "[[-0.3934072]\n",
            " [-0.054375 ]]\n",
            "Testing Label Array Size: 1000\n"
          ],
          "name": "stdout"
        }
      ]
    },
    {
      "cell_type": "code",
      "metadata": {
        "id": "-3NCdn1cvJIh",
        "colab_type": "code",
        "outputId": "736c0687-04b5-4a5b-c8df-b865d82baad6",
        "colab": {
          "base_uri": "https://localhost:8080/",
          "height": 510
        }
      },
      "source": [
        "#tl\n",
        "#tl = array(tl)\n",
        "#tl = tl.reshape(1, 2, 1)\n",
        "\n",
        "#training_data = [[map_height(x), map_weight(y)] for x,y in training_data]\n",
        "#training_data = array(training_data)\n",
        "#training_data = training_data.reshape(10, 2, 1)\n",
        "training_data"
      ],
      "execution_count": 0,
      "outputs": [
        {
          "output_type": "execute_result",
          "data": {
            "text/plain": [
              "array([[[0.27368421],\n",
              "        [0.4625    ]],\n",
              "\n",
              "       [[0.23684211],\n",
              "        [0.575     ]],\n",
              "\n",
              "       [[0.23684211],\n",
              "        [0.65      ]],\n",
              "\n",
              "       [[0.12105263],\n",
              "        [0.0875    ]],\n",
              "\n",
              "       [[0.29473684],\n",
              "        [0.65      ]],\n",
              "\n",
              "       [[0.28421053],\n",
              "        [0.6       ]],\n",
              "\n",
              "       [[0.26315789],\n",
              "        [0.575     ]],\n",
              "\n",
              "       [[0.24210526],\n",
              "        [0.6       ]],\n",
              "\n",
              "       [[0.27894737],\n",
              "        [0.575     ]],\n",
              "\n",
              "       [[0.22105263],\n",
              "        [0.5875    ]]])"
            ]
          },
          "metadata": {
            "tags": []
          },
          "execution_count": 47
        }
      ]
    },
    {
      "cell_type": "code",
      "metadata": {
        "id": "AKzZlp1FxLhG",
        "colab_type": "code",
        "outputId": "5f526023-13be-4a30-adf9-4a8afabc81ed",
        "colab": {
          "base_uri": "https://localhost:8080/",
          "height": 102
        }
      },
      "source": [
        "#def random_sum_pairs(n_examples, n_numbers, largest):\n",
        "  \n",
        "n_examples = 5\n",
        "n_numbers = 2\n",
        "largest = 10\n",
        "X, y = list(), list()\n",
        "for i in range(n_examples):\n",
        "\tin_pattern = [randint(1,largest) for _ in range(n_numbers)]\n",
        "\tout_pattern = sum(in_pattern)\n",
        "\tX.append(in_pattern)\n",
        "\ty.append(out_pattern)\n",
        "# format as NumPy arrays\n",
        "X,y = array(X), array(y)\n",
        "# normalize\n",
        "X = X.astype('float') / float(largest * n_numbers)\n",
        "y = y.astype('float') / float(largest * n_numbers)\n",
        "\t#return X, y\n",
        " \n",
        "#X = X.reshape(n_examples, n_numbers, 1)\n",
        "X\n"
      ],
      "execution_count": 0,
      "outputs": [
        {
          "output_type": "execute_result",
          "data": {
            "text/plain": [
              "array([[0.3 , 0.25],\n",
              "       [0.45, 0.3 ],\n",
              "       [0.4 , 0.05],\n",
              "       [0.15, 0.4 ],\n",
              "       [0.25, 0.2 ]])"
            ]
          },
          "metadata": {
            "tags": []
          },
          "execution_count": 41
        }
      ]
    },
    {
      "cell_type": "code",
      "metadata": {
        "id": "Tf7dI0PLvelg",
        "colab_type": "code",
        "outputId": "52c06ccb-7f29-4296-b1de-4885af837ea7",
        "colab": {
          "base_uri": "https://localhost:8080/",
          "height": 340
        }
      },
      "source": [
        "td"
      ],
      "execution_count": 0,
      "outputs": [
        {
          "output_type": "execute_result",
          "data": {
            "text/plain": [
              "array([[[0.25263158],\n",
              "        [0.6375    ]],\n",
              "\n",
              "       [[0.27894737],\n",
              "        [0.625     ]],\n",
              "\n",
              "       [[0.25789474],\n",
              "        [0.65      ]],\n",
              "\n",
              "       ...,\n",
              "\n",
              "       [[0.25263158],\n",
              "        [0.6125    ]],\n",
              "\n",
              "       [[0.25263158],\n",
              "        [0.575     ]],\n",
              "\n",
              "       [[0.3       ],\n",
              "        [0.65      ]]])"
            ]
          },
          "metadata": {
            "tags": []
          },
          "execution_count": 58
        }
      ]
    },
    {
      "cell_type": "code",
      "metadata": {
        "id": "Q4-gA55oqxo2",
        "colab_type": "code",
        "outputId": "6bc67fe0-149c-4a55-91b1-16452ad107fb",
        "colab": {
          "base_uri": "https://localhost:8080/",
          "height": 513
        }
      },
      "source": [
        "\n",
        "\n",
        "\n",
        "model.fit(td, tl_sigmoid, batch_size=1000, epochs=10)\n",
        "\n",
        "\n",
        "\n",
        "\n"
      ],
      "execution_count": 0,
      "outputs": [
        {
          "output_type": "stream",
          "text": [
            "WARNING:tensorflow:From /usr/local/lib/python3.6/dist-packages/tensorflow/python/ops/math_grad.py:1250: add_dispatch_support.<locals>.wrapper (from tensorflow.python.ops.array_ops) is deprecated and will be removed in a future version.\n",
            "Instructions for updating:\n",
            "Use tf.where in 2.0, which has the same broadcast rule as np.where\n",
            "WARNING:tensorflow:From /usr/local/lib/python3.6/dist-packages/keras/backend/tensorflow_backend.py:1033: The name tf.assign_add is deprecated. Please use tf.compat.v1.assign_add instead.\n",
            "\n",
            "WARNING:tensorflow:From /usr/local/lib/python3.6/dist-packages/keras/backend/tensorflow_backend.py:1020: The name tf.assign is deprecated. Please use tf.compat.v1.assign instead.\n",
            "\n",
            "Epoch 1/10\n",
            "1000/1000 [==============================] - 1s 1ms/step - loss: 0.0942\n",
            "Epoch 2/10\n",
            "1000/1000 [==============================] - 0s 7us/step - loss: 0.0930\n",
            "Epoch 3/10\n",
            "1000/1000 [==============================] - 0s 7us/step - loss: 0.0917\n",
            "Epoch 4/10\n",
            "1000/1000 [==============================] - 0s 11us/step - loss: 0.0902\n",
            "Epoch 5/10\n",
            "1000/1000 [==============================] - 0s 11us/step - loss: 0.0888\n",
            "Epoch 6/10\n",
            "1000/1000 [==============================] - 0s 7us/step - loss: 0.0874\n",
            "Epoch 7/10\n",
            "1000/1000 [==============================] - 0s 6us/step - loss: 0.0859\n",
            "Epoch 8/10\n",
            "1000/1000 [==============================] - 0s 8us/step - loss: 0.0844\n",
            "Epoch 9/10\n",
            "1000/1000 [==============================] - 0s 7us/step - loss: 0.0830\n",
            "Epoch 10/10\n",
            "1000/1000 [==============================] - 0s 7us/step - loss: 0.0815\n"
          ],
          "name": "stdout"
        },
        {
          "output_type": "execute_result",
          "data": {
            "text/plain": [
              "<keras.callbacks.History at 0x7f6715c2a828>"
            ]
          },
          "metadata": {
            "tags": []
          },
          "execution_count": 12
        }
      ]
    },
    {
      "cell_type": "code",
      "metadata": {
        "id": "oyIR96Rxvg9x",
        "colab_type": "code",
        "colab": {}
      },
      "source": [
        "#print(td)\n",
        "#td = array(td)\n",
        "#print(td)\n",
        "#print(tl_sigmoid[0])\n",
        "\n",
        "\n",
        "#td = array(td)\n",
        "#tl_sigmoid(tl_sigmoid)"
      ],
      "execution_count": 0,
      "outputs": []
    },
    {
      "cell_type": "code",
      "metadata": {
        "id": "VkQsgYrTvN5H",
        "colab_type": "code",
        "outputId": "7c870386-d293-4fa2-a70d-b5346a58a805",
        "colab": {
          "base_uri": "https://localhost:8080/",
          "height": 34
        }
      },
      "source": [
        "sigmoid(99)"
      ],
      "execution_count": 0,
      "outputs": [
        {
          "output_type": "execute_result",
          "data": {
            "text/plain": [
              "1.1125"
            ]
          },
          "metadata": {
            "tags": []
          },
          "execution_count": 13
        }
      ]
    },
    {
      "cell_type": "code",
      "metadata": {
        "id": "pn8GHhbdq58k",
        "colab_type": "code",
        "outputId": "cacd32ed-1722-4a95-b41e-526741550361",
        "colab": {
          "base_uri": "https://localhost:8080/",
          "height": 51
        }
      },
      "source": [
        "test_d = np.array(testing_data, dtype='float32')\n",
        "test_l = np.array(testing_label, dtype= 'bool')\n",
        "print(test_d[0])\n",
        "print(test_l[0])"
      ],
      "execution_count": 0,
      "outputs": [
        {
          "output_type": "stream",
          "text": [
            "[0.635      0.36666667]\n",
            "True\n"
          ],
          "name": "stdout"
        }
      ]
    },
    {
      "cell_type": "code",
      "metadata": {
        "id": "UxJAF9rHqEIF",
        "colab_type": "code",
        "outputId": "533bcee3-5456-4df4-bce0-da7dae8db1bd",
        "colab": {
          "base_uri": "https://localhost:8080/",
          "height": 68
        }
      },
      "source": [
        "N_test = 10\n",
        "testing_data = []\n",
        "testing_label = []\n",
        "person_array_test = []\n",
        "\n",
        "\n",
        "person_array_test = generatePersonArray(N_test)\n",
        "\n",
        "generateInputArray(person_array_test, testing_data, testing_label)\n",
        "\n",
        "\n",
        "testing_data = [[map_height(x), map_weight(y)] for x,y in testing_data]\n",
        "testing_data = array(testing_data)\n",
        "testing_data = testing_data.reshape(10, 2, 1)\n",
        "\n",
        "\n",
        "\n",
        "print(\"Testing Array Size: \" + repr( len (person_array_test) ) )\n",
        "print(\"Testing Data Array Size: \" + repr( len (testing_data) ) )\n",
        "print(\"Testing Label Array Size: \" + repr( len (testing_label) ) )\n"
      ],
      "execution_count": 0,
      "outputs": [
        {
          "output_type": "stream",
          "text": [
            "Testing Array Size: 10\n",
            "Testing Data Array Size: 10\n",
            "Testing Label Array Size: 10\n"
          ],
          "name": "stdout"
        }
      ]
    },
    {
      "cell_type": "code",
      "metadata": {
        "id": "I7RYwU7dbnro",
        "colab_type": "code",
        "outputId": "eedb38b2-78d5-4855-bb5f-2189b2cfef17",
        "colab": {
          "base_uri": "https://localhost:8080/",
          "height": 187
        }
      },
      "source": [
        "testing_label"
      ],
      "execution_count": 0,
      "outputs": [
        {
          "output_type": "execute_result",
          "data": {
            "text/plain": [
              "[32.64,\n",
              " 32.0,\n",
              " 35.45460008412956,\n",
              " 28.6865234375,\n",
              " 33.67530738507323,\n",
              " 41.82983268066927,\n",
              " 36.014405762304925,\n",
              " 41.66372431325472,\n",
              " 34.85367465897482,\n",
              " 38.88888888888889]"
            ]
          },
          "metadata": {
            "tags": []
          },
          "execution_count": 10
        }
      ]
    },
    {
      "cell_type": "code",
      "metadata": {
        "id": "qzKQhso7q2FS",
        "colab_type": "code",
        "outputId": "671482ec-b6f3-4ef5-a198-63cdfe2e4164",
        "colab": {
          "base_uri": "https://localhost:8080/",
          "height": 34
        }
      },
      "source": [
        "\n",
        "\n",
        "loss = model.evaluate(testing_data,testing_label)\n"
      ],
      "execution_count": 0,
      "outputs": [
        {
          "output_type": "stream",
          "text": [
            "\r10/10 [==============================] - 0s 8ms/step\n"
          ],
          "name": "stdout"
        }
      ]
    },
    {
      "cell_type": "code",
      "metadata": {
        "id": "hVqTt-2Lrrt2",
        "colab_type": "code",
        "outputId": "9f28a256-8ed8-4ab5-f0bd-de247f20e30b",
        "colab": {
          "base_uri": "https://localhost:8080/",
          "height": 34
        }
      },
      "source": [
        "print(test_l)"
      ],
      "execution_count": 0,
      "outputs": [
        {
          "output_type": "stream",
          "text": [
            "[ True False  True  True  True  True  True False  True  True]\n"
          ],
          "name": "stdout"
        }
      ]
    },
    {
      "cell_type": "code",
      "metadata": {
        "id": "VuLQasOIrfYS",
        "colab_type": "code",
        "outputId": "6e171893-c24a-49b0-f4be-752b5c3155fb",
        "colab": {
          "base_uri": "https://localhost:8080/",
          "height": 187
        }
      },
      "source": [
        "predict = model.predict(testing_data, batch_size=10, verbose=10)\n",
        "for p in predict:\n",
        "  print(reverse_bmi(p))"
      ],
      "execution_count": 0,
      "outputs": [
        {
          "output_type": "stream",
          "text": [
            "[22.53609]\n",
            "[33.964256]\n",
            "[33.859516]\n",
            "[34.13349]\n",
            "[33.28225]\n",
            "[32.36001]\n",
            "[26.998158]\n",
            "[33.57557]\n",
            "[33.785645]\n",
            "[28.301908]\n"
          ],
          "name": "stdout"
        }
      ]
    },
    {
      "cell_type": "code",
      "metadata": {
        "id": "_bqZi-QQdeQT",
        "colab_type": "code",
        "outputId": "f4ee2ece-a804-4957-817d-62f75d047a3b",
        "colab": {
          "base_uri": "https://localhost:8080/",
          "height": 187
        }
      },
      "source": [
        "for p in testing_label:\n",
        "  print(p)"
      ],
      "execution_count": 0,
      "outputs": [
        {
          "output_type": "stream",
          "text": [
            "10.569427929713305\n",
            "33.48006696013392\n",
            "30.30126449507604\n",
            "30.4178145087236\n",
            "41.58790170132326\n",
            "37.15814506539834\n",
            "21.43347050754458\n",
            "38.83906503777982\n",
            "30.769230769230766\n",
            "27.434842249657063\n"
          ],
          "name": "stdout"
        }
      ]
    }
  ]
}